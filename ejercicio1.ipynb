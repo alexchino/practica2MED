{
 "cells": [
  {
   "cell_type": "code",
   "execution_count": 2,
   "metadata": {},
   "outputs": [
    {
     "name": "stdout",
     "output_type": "stream",
     "text": [
      "La suma de los enteros del 1 al 100 es: 5050\n"
     ]
    }
   ],
   "source": [
    "#ejercicio1\n",
    "suma_total = 0\n",
    "for numero in range(1, 101):\n",
    " suma_total += numero\n",
    "print(\"La suma de los enteros del 1 al 100 es:\", suma_total)"
   ]
  },
  {
   "cell_type": "code",
   "execution_count": 10,
   "metadata": {},
   "outputs": [
    {
     "name": "stdout",
     "output_type": "stream",
     "text": [
      "a 3\n",
      "e 4\n",
      "i 4\n",
      "o 1\n",
      "u 1\n"
     ]
    }
   ],
   "source": [
    "#ejercicio2\n",
    "palabra = \"tres tristes tigres tragan trigo en un trigal\"\n",
    "vocales = ['a', 'e', 'i', 'o', 'u']\n",
    "for vocal in vocales:\n",
    "    cantidad = palabra.count(vocal)  \n",
    "    print(vocal, cantidad)"
   ]
  },
  {
   "cell_type": "code",
   "execution_count": 13,
   "metadata": {},
   "outputs": [
    {
     "name": "stdout",
     "output_type": "stream",
     "text": [
      "serie:  [1, 4, 6, 7, 8, 10, 13, 2, 9, 28, 9, 10, 7, 3, 8]\n",
      "pares [4, 6, 8, 10, 2, 28, 10, 8]\n",
      "impares [1, 7, 13, 9, 9, 7, 3]\n"
     ]
    }
   ],
   "source": [
    "numeros = [1, 4, 6, 7, 8, 10, 13, 2, 9, 28, 9, 10, 7, 3, 8]\n",
    "pares = []\n",
    "impares = []\n",
    "for numero in numeros:\n",
    "    if numero%2 == 0:\n",
    "        pares.append(numero)\n",
    "    else:\n",
    "        impares.append(numero)\n",
    "print(\"serie: \", numeros)\n",
    "print(\"pares\", pares)\n",
    "print(\"impares\", impares)\n"
   ]
  }
 ],
 "metadata": {
  "kernelspec": {
   "display_name": "Python 3",
   "language": "python",
   "name": "python3"
  },
  "language_info": {
   "codemirror_mode": {
    "name": "ipython",
    "version": 3
   },
   "file_extension": ".py",
   "mimetype": "text/x-python",
   "name": "python",
   "nbconvert_exporter": "python",
   "pygments_lexer": "ipython3",
   "version": "3.11.2"
  },
  "orig_nbformat": 4
 },
 "nbformat": 4,
 "nbformat_minor": 2
}
